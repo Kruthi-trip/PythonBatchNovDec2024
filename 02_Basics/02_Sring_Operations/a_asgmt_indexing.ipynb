{
 "cells": [
  {
   "cell_type": "markdown",
   "metadata": {},
   "source": [
    "## Assignment\n",
    "    Do perform inplace word reversal , for a given string"
   ]
  },
  {
   "cell_type": "code",
   "execution_count": 3,
   "metadata": {},
   "outputs": [],
   "source": [
    "name = \"ShahRukh Khan\"\n",
    "\n",
    "#   S   h   a   h  R  u  k  h     K   h  a  n\n",
    "#   0   1   2   3  4  5  6  7  8  9  10 11 12   - forward indexing\n",
    "# -13 -12 -11 -10 -9 -8 -7 -6 -5 -4  -3 -2 -1   - reverse indexing"
   ]
  },
  {
   "cell_type": "code",
   "execution_count": 1,
   "metadata": {},
   "outputs": [
    {
     "name": "stdout",
     "output_type": "stream",
     "text": [
      "Inplace Name Reversal =  hkuRhahS nahK\n"
     ]
    }
   ],
   "source": [
    "name = \"ShahRukh Khan\"\n",
    "\n",
    "print(\"Inplace Name Reversal =\", name[8::-1], name[13:8:-1])"
   ]
  },
  {
   "cell_type": "markdown",
   "metadata": {},
   "source": [
    "##### 2. Assignment: \n",
    "        reverse each word in given sentence in same order\n",
    "        input : today is good day\n",
    "        output: yadot si doog yad"
   ]
  },
  {
   "cell_type": "code",
   "execution_count": 2,
   "metadata": {},
   "outputs": [],
   "source": [
    "sentence = \"today is good day\"\n",
    "\n",
    "# indexing \n",
    "#  t   o   d   a   y       i   s     g   o   o   d       d  a  y\n",
    "#  0   1   2   3   4   5   6   7  8  9  10  11  12  13  14 15 16  - forward indexing\n",
    "#-17 -16 -15 -14 -13 -12 -11 -10 -9 -8  -7  -6  -5  -4  -3 -2 -1  - reverse indexing"
   ]
  },
  {
   "cell_type": "markdown",
   "metadata": {},
   "source": [
    "##### Assignment: \n",
    "    test if a given sentence is palindrome or not\n",
    "    HINT: ignore the whitespace and check"
   ]
  },
  {
   "cell_type": "code",
   "execution_count": 9,
   "metadata": {},
   "outputs": [
    {
     "name": "stdout",
     "output_type": "stream",
     "text": [
      "test_string == reverse_string: False\n",
      "todayisgoodday is NOT a Palindrome\n"
     ]
    }
   ],
   "source": [
    "\n",
    "\n",
    "test_string = \"todayisgoodday\"\n",
    "\n",
    "reverse_string = test_string[::-1]\n",
    "\n",
    "\n",
    "print(\"test_string == reverse_string:\", test_string == reverse_string)\n",
    "\n",
    "\n",
    "if test_string == reverse_string:\n",
    "    print(test_string, \"is Palindrome\")\n",
    "else:\n",
    "    print(test_string, \"is NOT a Palindrome\")"
   ]
  },
  {
   "cell_type": "code",
   "execution_count": null,
   "metadata": {},
   "outputs": [],
   "source": []
  }
 ],
 "metadata": {
  "kernelspec": {
   "display_name": "Python 3",
   "language": "python",
   "name": "python3"
  },
  "language_info": {
   "codemirror_mode": {
    "name": "ipython",
    "version": 3
   },
   "file_extension": ".py",
   "mimetype": "text/x-python",
   "name": "python",
   "nbconvert_exporter": "python",
   "pygments_lexer": "ipython3",
   "version": "3.12.1"
  }
 },
 "nbformat": 4,
 "nbformat_minor": 2
}
