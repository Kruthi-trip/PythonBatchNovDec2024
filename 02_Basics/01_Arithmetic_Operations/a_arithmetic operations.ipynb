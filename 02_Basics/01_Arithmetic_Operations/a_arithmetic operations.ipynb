{
 "cells": [
  {
   "cell_type": "markdown",
   "metadata": {},
   "source": [
    "## Arithmetic operations"
   ]
  },
  {
   "cell_type": "markdown",
   "metadata": {},
   "source": [
    "    Integer Family\n",
    "    -   int\n",
    "    -   long - python 2 only\n",
    "    -   float\n",
    "\n",
    "    -   complex\n",
    "    -   boolean\n",
    "    Arithmetic operation operators: + _ * / // %\n",
    "    NOTE: PEP 8 recomments to place one space aroung the operator"
   ]
  },
  {
   "cell_type": "code",
   "execution_count": 1,
   "metadata": {},
   "outputs": [],
   "source": [
    "num1 = 10 #int"
   ]
  },
  {
   "cell_type": "code",
   "execution_count": 2,
   "metadata": {},
   "outputs": [
    {
     "data": {
      "text/plain": [
       "10"
      ]
     },
     "execution_count": 2,
     "metadata": {},
     "output_type": "execute_result"
    }
   ],
   "source": [
    "num1"
   ]
  },
  {
   "cell_type": "code",
   "execution_count": 3,
   "metadata": {},
   "outputs": [
    {
     "name": "stdout",
     "output_type": "stream",
     "text": [
      "10\n"
     ]
    }
   ],
   "source": [
    "print(num1)"
   ]
  },
  {
   "cell_type": "code",
   "execution_count": 4,
   "metadata": {},
   "outputs": [
    {
     "name": "stdout",
     "output_type": "stream",
     "text": [
      "num1 = 10\n"
     ]
    }
   ],
   "source": [
    "print(\"num1 =\", num1)"
   ]
  },
  {
   "cell_type": "code",
   "execution_count": 5,
   "metadata": {},
   "outputs": [
    {
     "data": {
      "text/plain": [
       "int"
      ]
     },
     "execution_count": 5,
     "metadata": {},
     "output_type": "execute_result"
    }
   ],
   "source": [
    "type(num1)"
   ]
  },
  {
   "cell_type": "code",
   "execution_count": 7,
   "metadata": {},
   "outputs": [],
   "source": [
    "num2 = 200"
   ]
  },
  {
   "cell_type": "code",
   "execution_count": 8,
   "metadata": {},
   "outputs": [
    {
     "data": {
      "text/plain": [
       "210"
      ]
     },
     "execution_count": 8,
     "metadata": {},
     "output_type": "execute_result"
    }
   ],
   "source": [
    "num1 + num2 #addition"
   ]
  },
  {
   "cell_type": "code",
   "execution_count": 9,
   "metadata": {},
   "outputs": [
    {
     "data": {
      "text/plain": [
       "-190"
      ]
     },
     "execution_count": 9,
     "metadata": {},
     "output_type": "execute_result"
    }
   ],
   "source": [
    "num1 - num2 #subtraction"
   ]
  },
  {
   "cell_type": "code",
   "execution_count": 10,
   "metadata": {},
   "outputs": [
    {
     "data": {
      "text/plain": [
       "2000"
      ]
     },
     "execution_count": 10,
     "metadata": {},
     "output_type": "execute_result"
    }
   ],
   "source": [
    "num1 * num2 #multiplication"
   ]
  },
  {
   "cell_type": "code",
   "execution_count": 11,
   "metadata": {},
   "outputs": [
    {
     "data": {
      "text/plain": [
       "0.05"
      ]
     },
     "execution_count": 11,
     "metadata": {},
     "output_type": "execute_result"
    }
   ],
   "source": [
    "num1 / num2 #division"
   ]
  },
  {
   "cell_type": "markdown",
   "metadata": {},
   "source": [
    "    To convert python cell to markdown : Esc + M\n",
    "\n",
    "    NOTE: Division will result in a floating point result everytime.\n"
   ]
  },
  {
   "cell_type": "code",
   "execution_count": 12,
   "metadata": {},
   "outputs": [
    {
     "data": {
      "text/plain": [
       "5.0"
      ]
     },
     "execution_count": 12,
     "metadata": {},
     "output_type": "execute_result"
    }
   ],
   "source": [
    "10 / 2"
   ]
  },
  {
   "cell_type": "code",
   "execution_count": 13,
   "metadata": {},
   "outputs": [
    {
     "data": {
      "text/plain": [
       "3.3333333333333335"
      ]
     },
     "execution_count": 13,
     "metadata": {},
     "output_type": "execute_result"
    }
   ],
   "source": [
    "10 / 3"
   ]
  },
  {
   "cell_type": "markdown",
   "metadata": {},
   "source": [
    "Floor Division"
   ]
  },
  {
   "cell_type": "code",
   "execution_count": 14,
   "metadata": {},
   "outputs": [
    {
     "data": {
      "text/plain": [
       "5"
      ]
     },
     "execution_count": 14,
     "metadata": {},
     "output_type": "execute_result"
    }
   ],
   "source": [
    "10 // 2\n"
   ]
  },
  {
   "cell_type": "code",
   "execution_count": 15,
   "metadata": {},
   "outputs": [
    {
     "data": {
      "text/plain": [
       "3"
      ]
     },
     "execution_count": 15,
     "metadata": {},
     "output_type": "execute_result"
    }
   ],
   "source": [
    "10 // 3"
   ]
  },
  {
   "cell_type": "markdown",
   "metadata": {},
   "source": [
    "floor division will remove the decimals and give the minimum integer that is adjacent to the actual result"
   ]
  },
  {
   "cell_type": "code",
   "execution_count": 16,
   "metadata": {},
   "outputs": [
    {
     "data": {
      "text/plain": [
       "-4"
      ]
     },
     "execution_count": 16,
     "metadata": {},
     "output_type": "execute_result"
    }
   ],
   "source": [
    "-10 // 3"
   ]
  },
  {
   "cell_type": "markdown",
   "metadata": {},
   "source": [
    "for the above code the result is -4 because it is the minimum integer between -4 and -3"
   ]
  },
  {
   "cell_type": "code",
   "execution_count": 17,
   "metadata": {},
   "outputs": [
    {
     "name": "stdout",
     "output_type": "stream",
     "text": [
      "5863581658652486154685863152711087083469176864586257615471354761547908196497216497249\n"
     ]
    }
   ],
   "source": [
    "num3 = 5863581658652486154685863152711087083469176864586257615471354761547908196497216497249\n",
    "print(num3)"
   ]
  },
  {
   "cell_type": "markdown",
   "metadata": {},
   "source": [
    "there is no number length limit in python"
   ]
  },
  {
   "cell_type": "code",
   "execution_count": 18,
   "metadata": {},
   "outputs": [
    {
     "name": "stdout",
     "output_type": "stream",
     "text": [
      "<class 'int'>\n"
     ]
    }
   ],
   "source": [
    "num3 = 5863581658652486154685863152711087083469176864586257615471354761547908196497216497249\n",
    "print(type(num3))"
   ]
  },
  {
   "cell_type": "markdown",
   "metadata": {},
   "source": [
    "numeric literals allow optional underscores to help improve redability"
   ]
  },
  {
   "cell_type": "code",
   "execution_count": null,
   "metadata": {},
   "outputs": [
    {
     "name": "stdout",
     "output_type": "stream",
     "text": [
      "299792458 <class 'int'>\n"
     ]
    }
   ],
   "source": [
    "speed_of_light = 299_792_458\n",
    "print(speed_of_light, type(speed_of_light))"
   ]
  },
  {
   "cell_type": "code",
   "execution_count": 20,
   "metadata": {},
   "outputs": [
    {
     "name": "stdout",
     "output_type": "stream",
     "text": [
      "(299, 792, 458) <class 'tuple'>\n"
     ]
    }
   ],
   "source": [
    "speed_of_light = 299,792,458\n",
    "print(speed_of_light, type(speed_of_light))"
   ]
  },
  {
   "cell_type": "code",
   "execution_count": 21,
   "metadata": {},
   "outputs": [
    {
     "name": "stdout",
     "output_type": "stream",
     "text": [
      "3.141592653546793 <class 'float'>\n"
     ]
    }
   ],
   "source": [
    "pi_value = 3.1415_9265_3546_793\n",
    "print(pi_value, type(pi_value))"
   ]
  },
  {
   "cell_type": "markdown",
   "metadata": {},
   "source": [
    "Modulo Operation % - remainder"
   ]
  },
  {
   "cell_type": "code",
   "execution_count": 22,
   "metadata": {},
   "outputs": [
    {
     "data": {
      "text/plain": [
       "0"
      ]
     },
     "execution_count": 22,
     "metadata": {},
     "output_type": "execute_result"
    }
   ],
   "source": [
    "10 % 2"
   ]
  },
  {
   "cell_type": "code",
   "execution_count": 23,
   "metadata": {},
   "outputs": [
    {
     "data": {
      "text/plain": [
       "1"
      ]
     },
     "execution_count": 23,
     "metadata": {},
     "output_type": "execute_result"
    }
   ],
   "source": [
    "10 % 3"
   ]
  },
  {
   "cell_type": "code",
   "execution_count": 24,
   "metadata": {},
   "outputs": [
    {
     "data": {
      "text/plain": [
       "1"
      ]
     },
     "execution_count": 24,
     "metadata": {},
     "output_type": "execute_result"
    }
   ],
   "source": [
    "-13 % 2"
   ]
  },
  {
   "cell_type": "code",
   "execution_count": 25,
   "metadata": {},
   "outputs": [
    {
     "data": {
      "text/plain": [
       "-1"
      ]
     },
     "execution_count": 25,
     "metadata": {},
     "output_type": "execute_result"
    }
   ],
   "source": [
    "13 % -2"
   ]
  },
  {
   "cell_type": "markdown",
   "metadata": {},
   "source": [
    "NOTE: The sign of the divisor will go to the output"
   ]
  },
  {
   "cell_type": "code",
   "execution_count": null,
   "metadata": {},
   "outputs": [],
   "source": [
    "''' \n",
    "        2) 13 (6   ----> Quitient // (floor division)\n",
    "           12\n",
    "         ------\n",
    "            1      ----> Remainder %\n",
    "            \n",
    "'''"
   ]
  },
  {
   "cell_type": "code",
   "execution_count": 1,
   "metadata": {},
   "outputs": [
    {
     "data": {
      "text/plain": [
       "(6, 1)"
      ]
     },
     "execution_count": 1,
     "metadata": {},
     "output_type": "execute_result"
    }
   ],
   "source": [
    "divmod(13,2)"
   ]
  },
  {
   "cell_type": "code",
   "execution_count": 2,
   "metadata": {},
   "outputs": [
    {
     "data": {
      "text/plain": [
       "(6, 1)"
      ]
     },
     "execution_count": 2,
     "metadata": {},
     "output_type": "execute_result"
    }
   ],
   "source": [
    "13 // 2, 13 % 2"
   ]
  },
  {
   "cell_type": "code",
   "execution_count": 3,
   "metadata": {},
   "outputs": [
    {
     "data": {
      "text/plain": [
       "(5, 0)"
      ]
     },
     "execution_count": 3,
     "metadata": {},
     "output_type": "execute_result"
    }
   ],
   "source": [
    "divmod(10, 2)"
   ]
  },
  {
   "cell_type": "code",
   "execution_count": 4,
   "metadata": {},
   "outputs": [
    {
     "data": {
      "text/plain": [
       "(5, 0)"
      ]
     },
     "execution_count": 4,
     "metadata": {},
     "output_type": "execute_result"
    }
   ],
   "source": [
    "10 // 2, 10 % 2"
   ]
  },
  {
   "cell_type": "code",
   "execution_count": 5,
   "metadata": {},
   "outputs": [
    {
     "data": {
      "text/plain": [
       "4"
      ]
     },
     "execution_count": 5,
     "metadata": {},
     "output_type": "execute_result"
    }
   ],
   "source": [
    "1234 % 10"
   ]
  },
  {
   "cell_type": "markdown",
   "metadata": {},
   "source": [
    "power operation **, pow"
   ]
  },
  {
   "cell_type": "code",
   "execution_count": 8,
   "metadata": {},
   "outputs": [
    {
     "data": {
      "text/plain": [
       "8"
      ]
     },
     "execution_count": 8,
     "metadata": {},
     "output_type": "execute_result"
    }
   ],
   "source": [
    "4 * 2"
   ]
  },
  {
   "cell_type": "code",
   "execution_count": 9,
   "metadata": {},
   "outputs": [
    {
     "data": {
      "text/plain": [
       "16"
      ]
     },
     "execution_count": 9,
     "metadata": {},
     "output_type": "execute_result"
    }
   ],
   "source": [
    "4 ** 2"
   ]
  },
  {
   "cell_type": "code",
   "execution_count": 10,
   "metadata": {},
   "outputs": [
    {
     "data": {
      "text/plain": [
       "8.0"
      ]
     },
     "execution_count": 10,
     "metadata": {},
     "output_type": "execute_result"
    }
   ],
   "source": [
    "64 **(1/2) # square root"
   ]
  },
  {
   "cell_type": "code",
   "execution_count": 11,
   "metadata": {},
   "outputs": [
    {
     "data": {
      "text/plain": [
       "8.0"
      ]
     },
     "execution_count": 11,
     "metadata": {},
     "output_type": "execute_result"
    }
   ],
   "source": [
    "64 ** 0.5"
   ]
  },
  {
   "cell_type": "code",
   "execution_count": 13,
   "metadata": {},
   "outputs": [
    {
     "data": {
      "text/plain": [
       "16"
      ]
     },
     "execution_count": 13,
     "metadata": {},
     "output_type": "execute_result"
    }
   ],
   "source": [
    "pow(4,2)"
   ]
  },
  {
   "cell_type": "code",
   "execution_count": 14,
   "metadata": {},
   "outputs": [
    {
     "data": {
      "text/plain": [
       "True"
      ]
     },
     "execution_count": 14,
     "metadata": {},
     "output_type": "execute_result"
    }
   ],
   "source": [
    "64 ** 0.5 == pow(64, 0.5)"
   ]
  },
  {
   "cell_type": "code",
   "execution_count": 15,
   "metadata": {},
   "outputs": [
    {
     "data": {
      "text/plain": [
       "True"
      ]
     },
     "execution_count": 15,
     "metadata": {},
     "output_type": "execute_result"
    }
   ],
   "source": [
    "pow(4, 2, 9) == (4 ** 2) % 9"
   ]
  },
  {
   "cell_type": "markdown",
   "metadata": {},
   "source": [
    "Exponential notation"
   ]
  },
  {
   "cell_type": "code",
   "execution_count": 16,
   "metadata": {},
   "outputs": [
    {
     "data": {
      "text/plain": [
       "300.0"
      ]
     },
     "execution_count": 16,
     "metadata": {},
     "output_type": "execute_result"
    }
   ],
   "source": [
    "3e2"
   ]
  },
  {
   "cell_type": "code",
   "execution_count": 17,
   "metadata": {},
   "outputs": [
    {
     "data": {
      "text/plain": [
       "450000000000000.0"
      ]
     },
     "execution_count": 17,
     "metadata": {},
     "output_type": "execute_result"
    }
   ],
   "source": [
    "45e13"
   ]
  },
  {
   "cell_type": "markdown",
   "metadata": {},
   "source": [
    "    compound operators\n",
    "        += -= *= /= %="
   ]
  },
  {
   "cell_type": "code",
   "execution_count": 3,
   "metadata": {},
   "outputs": [
    {
     "name": "stdout",
     "output_type": "stream",
     "text": [
      "myNumber = 123\n"
     ]
    }
   ],
   "source": [
    "myNumber = 123\n",
    "print(\"myNumber =\", myNumber)"
   ]
  },
  {
   "cell_type": "code",
   "execution_count": 4,
   "metadata": {},
   "outputs": [
    {
     "name": "stdout",
     "output_type": "stream",
     "text": [
      "myNumber = 124\n"
     ]
    }
   ],
   "source": [
    "myNumber = myNumber + 1\n",
    "print(\"myNumber =\", myNumber)"
   ]
  },
  {
   "cell_type": "markdown",
   "metadata": {},
   "source": [
    "in cases, where the same variable is present both the sides, then compound operations are valid"
   ]
  },
  {
   "cell_type": "code",
   "execution_count": 5,
   "metadata": {},
   "outputs": [
    {
     "name": "stdout",
     "output_type": "stream",
     "text": [
      "myNumber = 125\n"
     ]
    }
   ],
   "source": [
    "myNumber += 1  #myNumber = myNumber + 1\n",
    "print(\"myNumber =\", myNumber)"
   ]
  },
  {
   "cell_type": "markdown",
   "metadata": {},
   "source": [
    "unary operations are not supported\n",
    "(same arithematic operator)\n",
    "myNumber++"
   ]
  },
  {
   "cell_type": "code",
   "execution_count": 6,
   "metadata": {},
   "outputs": [
    {
     "name": "stdout",
     "output_type": "stream",
     "text": [
      "myNumber = 182\n"
     ]
    }
   ],
   "source": [
    "newNumber = 56\n",
    "\n",
    "myNumber = myNumber + newNumber +1\n",
    "print(\"myNumber =\", myNumber)"
   ]
  },
  {
   "cell_type": "code",
   "execution_count": 7,
   "metadata": {},
   "outputs": [
    {
     "name": "stdout",
     "output_type": "stream",
     "text": [
      "myNumber = 239\n"
     ]
    }
   ],
   "source": [
    "newNumber = 56\n",
    "\n",
    "myNumber += newNumber +1 # myNumber = myNumber + newNumber +1\n",
    "print(\"myNumber =\", myNumber)"
   ]
  },
  {
   "cell_type": "code",
   "execution_count": null,
   "metadata": {},
   "outputs": [
    {
     "name": "stdout",
     "output_type": "stream",
     "text": [
      "myNumber = 181\n"
     ]
    }
   ],
   "source": [
    "myNumber -= 58 # myNumber = myNumber - 58\n",
    "print(\"myNumber =\", myNumber)"
   ]
  },
  {
   "cell_type": "code",
   "execution_count": 9,
   "metadata": {},
   "outputs": [
    {
     "name": "stdout",
     "output_type": "stream",
     "text": [
      "myNumber = 18100\n"
     ]
    }
   ],
   "source": [
    "myNumber *= 100 # myNumber = myNumber * 100\n",
    "print(\"myNumber =\", myNumber)"
   ]
  },
  {
   "cell_type": "code",
   "execution_count": 10,
   "metadata": {},
   "outputs": [
    {
     "name": "stdout",
     "output_type": "stream",
     "text": [
      "myNumber = 1810.0\n"
     ]
    }
   ],
   "source": [
    "myNumber /= 10 # myNumber = myNumber / 10\n",
    "print(\"myNumber =\", myNumber)"
   ]
  },
  {
   "cell_type": "code",
   "execution_count": 11,
   "metadata": {},
   "outputs": [
    {
     "name": "stdout",
     "output_type": "stream",
     "text": [
      "myNumber = 0.0\n"
     ]
    }
   ],
   "source": [
    "myNumber %= 10 # myNumber = myNumber % 10\n",
    "print(\"myNumber =\", myNumber)"
   ]
  },
  {
   "cell_type": "markdown",
   "metadata": {},
   "source": [
    "NOTE: python doesnt support unary operations : ++i, i++, --i, i--, it should be used as i += 1, i -= 1, ..."
   ]
  },
  {
   "cell_type": "markdown",
   "metadata": {},
   "source": [
    "Representing big(large aand small) numbers"
   ]
  },
  {
   "cell_type": "code",
   "execution_count": 1,
   "metadata": {},
   "outputs": [
    {
     "name": "stdout",
     "output_type": "stream",
     "text": [
      "num = 100\n"
     ]
    }
   ],
   "source": [
    "num = 100\n",
    "print(\"num =\", num)"
   ]
  },
  {
   "cell_type": "code",
   "execution_count": 2,
   "metadata": {},
   "outputs": [
    {
     "name": "stdout",
     "output_type": "stream",
     "text": [
      "<class 'int'> 299792458\n",
      "<class 'tuple'> (299, 792, 458)\n",
      "<class 'int'> 299792458\n",
      "<class 'str'> 299_792_458\n"
     ]
    }
   ],
   "source": [
    "# Larger numbers\n",
    "speed_of_light = 299792458\n",
    "print(type(speed_of_light), speed_of_light)\n",
    "\n",
    "speed_of_light = 299,792,458\n",
    "print(type(speed_of_light), speed_of_light)\n",
    "\n",
    "speed_of_light = 299_792_458\n",
    "print(type(speed_of_light), speed_of_light)\n",
    "\n",
    "speed_of_light = \"299_792_458\"\n",
    "print(type(speed_of_light), speed_of_light)"
   ]
  },
  {
   "cell_type": "code",
   "execution_count": 5,
   "metadata": {},
   "outputs": [
    {
     "name": "stdout",
     "output_type": "stream",
     "text": [
      "<class 'float'> 3.1415923223213453\n",
      "<class 'float'> 6.022140857e+23\n",
      "\n",
      "123453213213\n"
     ]
    }
   ],
   "source": [
    "# smaller numbers\n",
    "pi_value = 3.1415_9232_2321_3453\n",
    "print(type(pi_value), pi_value)\n",
    "\n",
    "avogadro_number = 6.022_140_857e23\n",
    "print(type(avogadro_number), avogadro_number)\n",
    "print()\n",
    "\n",
    "print(1_2_3_4_53_213_213) # 123453213213\n",
    "# print(1_2_3_4_53_213__213) \n",
    "# # NO MORE THAN ONE CONTINUOUS UNDERSCORES SyntaxError: invalid decimal literal"
   ]
  },
  {
   "cell_type": "markdown",
   "metadata": {},
   "source": [
    "## abs"
   ]
  },
  {
   "cell_type": "markdown",
   "metadata": {},
   "source": [
    "    Builtin function, to return the absolute value.\n",
    "\n",
    "    If a is positive real integer,\n",
    "        abs(a)  = a\n",
    "        abs(-a) = a\n",
    "        abs(a+bj)  is equal to math.sqrt(pow(a,2)+ pow(b,2))"
   ]
  },
  {
   "cell_type": "code",
   "execution_count": 1,
   "metadata": {},
   "outputs": [
    {
     "name": "stdout",
     "output_type": "stream",
     "text": [
      "abs(3)          =  3\n",
      "abs(-3)         =  3\n",
      "abs(-3234.34234)=  3234.34234\n",
      "abs(0.00000001) =  1e-08\n"
     ]
    }
   ],
   "source": [
    "print(\"abs(3)          = \", abs(3))\n",
    "print(\"abs(-3)         = \", abs(-3))\n",
    "\n",
    "print(\"abs(-3234.34234)= \", abs(-3234.34234))\n",
    "print(\"abs(0.00000001) = \", abs(0.00000001))"
   ]
  },
  {
   "cell_type": "code",
   "execution_count": 2,
   "metadata": {},
   "outputs": [
    {
     "name": "stdout",
     "output_type": "stream",
     "text": [
      "abs(-3 + 4j)    =  5.0\n",
      "abs(-3 + 4.0j)  =  5.0\n"
     ]
    }
   ],
   "source": [
    "print(\"abs(-3 + 4j)    = \", abs(-3 + 4j))    # 5.0\n",
    "print(\"abs(-3 + 4.0j)  = \", abs(-3 + 4.0j))  # 5.0"
   ]
  },
  {
   "cell_type": "code",
   "execution_count": 3,
   "metadata": {},
   "outputs": [],
   "source": [
    "# loading a module (library) to use\n",
    "import math"
   ]
  },
  {
   "cell_type": "code",
   "execution_count": 4,
   "metadata": {},
   "outputs": [
    {
     "name": "stdout",
     "output_type": "stream",
     "text": [
      "5.0\n",
      "5.0\n"
     ]
    }
   ],
   "source": [
    "print(math.sqrt(pow(-3, 2) + pow(4, 2)))  # 5.0\n",
    "print(math.sqrt((-3) ** 2 + 4**2))  # 5.0"
   ]
  },
  {
   "cell_type": "code",
   "execution_count": 5,
   "metadata": {},
   "outputs": [
    {
     "name": "stdout",
     "output_type": "stream",
     "text": [
      "2.6457513110645907\n"
     ]
    }
   ],
   "source": [
    "# PEMDAS\n",
    "print(math.sqrt(-(3**2) + 4**2))  # 2.6457513110645907"
   ]
  },
  {
   "cell_type": "code",
   "execution_count": null,
   "metadata": {},
   "outputs": [],
   "source": []
  }
 ],
 "metadata": {
  "kernelspec": {
   "display_name": "Python 3",
   "language": "python",
   "name": "python3"
  },
  "language_info": {
   "codemirror_mode": {
    "name": "ipython",
    "version": 3
   },
   "file_extension": ".py",
   "mimetype": "text/x-python",
   "name": "python",
   "nbconvert_exporter": "python",
   "pygments_lexer": "ipython3",
   "version": "3.12.1"
  }
 },
 "nbformat": 4,
 "nbformat_minor": 2
}
