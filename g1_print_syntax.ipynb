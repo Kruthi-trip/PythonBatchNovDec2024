{
 "cells": [
  {
   "cell_type": "markdown",
   "metadata": {},
   "source": [
    "### print function"
   ]
  },
  {
   "cell_type": "code",
   "execution_count": 1,
   "metadata": {},
   "outputs": [
    {
     "name": "stdout",
     "output_type": "stream",
     "text": [
      "hello;python;12132\tworld\n"
     ]
    }
   ],
   "source": [
    "print(\"hello\", \"python\", 12132, end = \"\\t\", sep=\";\")\n",
    "print(\"world\")\n"
   ]
  },
  {
   "cell_type": "code",
   "execution_count": 2,
   "metadata": {},
   "outputs": [
    {
     "name": "stdout",
     "output_type": "stream",
     "text": [
      "1;2;3;4;5\ta-b-c-d\n"
     ]
    }
   ],
   "source": [
    "print(1, 2, 3, 4, 5, sep=\";\", end=\"\\t\")\n",
    "print(\"a\", \"b\", \"c\", \"d\", sep=\"-\") # default end='\\n'"
   ]
  },
  {
   "cell_type": "code",
   "execution_count": 7,
   "metadata": {},
   "outputs": [
    {
     "name": "stdout",
     "output_type": "stream",
     "text": [
      "Hi\n",
      "134\n",
      "firssecond\n",
      "\bsecond\n",
      "secon\n"
     ]
    }
   ],
   "source": [
    "#\\b - overwrites previous character\n",
    "print(\"He\\bi\")\n",
    "print(\"12\\b34\")\n",
    "print(\"first\\bsecond\")\n",
    "print(\"\\bsecond\")\n",
    "print(\"second\\b\")"
   ]
  },
  {
   "cell_type": "code",
   "execution_count": null,
   "metadata": {},
   "outputs": [
    {
     "name": "stdout",
     "output_type": "stream",
     "text": [
      "iel\n",
      "34\n",
      "second\n",
      "1234ef\n",
      "DOG4567\n"
     ]
    }
   ],
   "source": [
    "#\\r - overwrites complete existing line\n",
    "print(\"Hel\\ri\")\n",
    "print(\"12\\r34\")\n",
    "print(\"first\\rsecond\")\n",
    "print(\"abcdef\\r1234\")\n",
    "print(\"1234567\\rDOG\")\n",
    "\n",
    "# it overwrites the characters before \\r with the characters after \\r"
   ]
  },
  {
   "cell_type": "code",
   "execution_count": null,
   "metadata": {},
   "outputs": [
    {
     "name": "stdout",
     "output_type": "stream",
     "text": [
      "₹\n",
      "Ǝ\n",
      "&\n"
     ]
    }
   ],
   "source": [
    "# Unicode characters \\uXXX - unicode character\n",
    "\n",
    "print(\"\\u20B9\") # ₹(rupee) - unicode\n",
    "print(\"\\u018e\") # Ǝ(euro) - unicode\n",
    "\n",
    "print(\"\\046\") # & - Ascii"
   ]
  },
  {
   "cell_type": "code",
   "execution_count": 10,
   "metadata": {},
   "outputs": [
    {
     "name": "stdout",
     "output_type": "stream",
     "text": [
      "$\n",
      "ñ\n"
     ]
    }
   ],
   "source": [
    "# \\x... - hexadecimal number\n",
    "print(\"\\x24\")\n",
    "print(\"\\xf1\")"
   ]
  },
  {
   "cell_type": "code",
   "execution_count": 11,
   "metadata": {},
   "outputs": [
    {
     "name": "stdout",
     "output_type": "stream",
     "text": [
      "#$%*&^(*;\n"
     ]
    }
   ],
   "source": [
    "print(\"#$%*&^(*;\")"
   ]
  }
 ],
 "metadata": {
  "kernelspec": {
   "display_name": "Python 3",
   "language": "python",
   "name": "python3"
  },
  "language_info": {
   "codemirror_mode": {
    "name": "ipython",
    "version": 3
   },
   "file_extension": ".py",
   "mimetype": "text/x-python",
   "name": "python",
   "nbconvert_exporter": "python",
   "pygments_lexer": "ipython3",
   "version": "3.12.1"
  }
 },
 "nbformat": 4,
 "nbformat_minor": 2
}
